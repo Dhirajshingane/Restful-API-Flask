{
  "nbformat": 4,
  "nbformat_minor": 0,
  "metadata": {
    "colab": {
      "provenance": []
    },
    "kernelspec": {
      "name": "python3",
      "display_name": "Python 3"
    },
    "language_info": {
      "name": "python"
    }
  },
  "cells": [
    {
      "cell_type": "markdown",
      "source": [
        "# Restful API & Flask\n",
        "\n",
        "---\n",
        "\n"
      ],
      "metadata": {
        "id": "Kkcy0HvJdnsp"
      }
    },
    {
      "cell_type": "markdown",
      "source": [
        "1. What is a RESTful API?"
      ],
      "metadata": {
        "id": "THysuObndxKh"
      }
    },
    {
      "cell_type": "markdown",
      "source": [
        "Ans ->\n",
        "\n",
        "A RESTful API (Representational State Transfer) is an architectural style for designing networked applications. It uses standard HTTP methods (GET, POST, PUT, DELETE) and operates on resources (data entities) identified by URLs. RESTful APIs are stateless, meaning each request from a client contains all the information needed to process it, and no session is stored on the server."
      ],
      "metadata": {
        "id": "r420KeOreL8a"
      }
    },
    {
      "cell_type": "markdown",
      "source": [
        "2. Explain the concept of API specification."
      ],
      "metadata": {
        "id": "LaFG2qPrdyho"
      }
    },
    {
      "cell_type": "markdown",
      "source": [
        "ANs ->\n",
        "\n",
        "An API specification is a formal document or blueprint that describes how an API behaves. It defines:\n",
        "\n",
        "Available endpoints and their paths\n",
        "\n",
        "HTTP methods (GET, POST, etc.)\n",
        "\n",
        "Request and response formats (JSON, XML)\n",
        "\n",
        "Authentication requirements\n",
        "\n",
        "Error codes and messages\n",
        "Popular formats include OpenAPI (Swagger) and RAML."
      ],
      "metadata": {
        "id": "N1Grd3wBePTo"
      }
    },
    {
      "cell_type": "markdown",
      "source": [
        "3. What is Flask, and why is it popular for building APIs?"
      ],
      "metadata": {
        "id": "uFQOu1dqd0qM"
      }
    },
    {
      "cell_type": "markdown",
      "source": [
        "Ans ->\n",
        "\n",
        "Flask is a lightweight Python web framework used for building web applications and RESTful APIs. It's popular because:\n",
        "\n",
        "It's easy to learn and use.\n",
        "\n",
        "It supports modular code.\n",
        "\n",
        "It has a large ecosystem of extensions (e.g., Flask-SQLAlchemy).\n",
        "\n",
        "It doesn't force a specific project layout or tools."
      ],
      "metadata": {
        "id": "B6fnlOEleSEg"
      }
    },
    {
      "cell_type": "markdown",
      "source": [
        "4. What is routing in Flask?"
      ],
      "metadata": {
        "id": "3MJ2ciJId2mI"
      }
    },
    {
      "cell_type": "markdown",
      "source": [
        "Ans ->\n",
        "\n",
        "Routing in Flask is the process of mapping URLs to Python functions. When a client requests a URL, Flask determines which function to execute based on the route. This is done using the @app.route() decorator."
      ],
      "metadata": {
        "id": "KGlUbJ51eVIA"
      }
    },
    {
      "cell_type": "markdown",
      "source": [
        "5. How do you create a simple Flask application?"
      ],
      "metadata": {
        "id": "Jl2EkzK_d4bx"
      }
    },
    {
      "cell_type": "code",
      "source": [
        "from flask import Flask\n",
        "\n",
        "app = Flask(__name__)\n",
        "\n",
        "@app.route('/')\n",
        "def hello():\n",
        "    return 'Hello, World!'\n",
        "\n",
        "if __name__ == '__main__':\n",
        "    app.run(debug=True)\n"
      ],
      "metadata": {
        "colab": {
          "base_uri": "https://localhost:8080/"
        },
        "id": "PEAH0WAleYob",
        "outputId": "f57cffa9-97a7-4c3c-9d21-daaef905766b"
      },
      "execution_count": null,
      "outputs": [
        {
          "output_type": "stream",
          "name": "stdout",
          "text": [
            " * Serving Flask app '__main__'\n",
            " * Debug mode: on\n"
          ]
        },
        {
          "output_type": "stream",
          "name": "stderr",
          "text": [
            "INFO:werkzeug:\u001b[31m\u001b[1mWARNING: This is a development server. Do not use it in a production deployment. Use a production WSGI server instead.\u001b[0m\n",
            " * Running on http://127.0.0.1:5000\n",
            "INFO:werkzeug:\u001b[33mPress CTRL+C to quit\u001b[0m\n",
            "INFO:werkzeug: * Restarting with stat\n"
          ]
        }
      ]
    },
    {
      "cell_type": "markdown",
      "source": [
        "6. What are HTTP methods used in RESTful APIs?"
      ],
      "metadata": {
        "id": "5I5cpX07d6lE"
      }
    },
    {
      "cell_type": "markdown",
      "source": [
        "Ans ->\n",
        "\n",
        "Common HTTP methods include:\n",
        "\n",
        "GET: Retrieve data\n",
        "\n",
        "POST: Create new data\n",
        "\n",
        "PUT: Update existing data\n",
        "\n",
        "DELETE: Delete data\n",
        "\n",
        "PATCH: Partially update data"
      ],
      "metadata": {
        "id": "YMw4fJX1eisV"
      }
    },
    {
      "cell_type": "markdown",
      "source": [
        "\n",
        "7. What is the purpose of the @app.route() decorator in Flask?"
      ],
      "metadata": {
        "id": "b_WQt2pmd-O4"
      }
    },
    {
      "cell_type": "markdown",
      "source": [
        "Ans ->\n",
        "\n",
        "The @app.route() decorator binds a function to a specific URL. It tells Flask what URL should trigger the execution of the function below it."
      ],
      "metadata": {
        "id": "DJzUqXqhemp5"
      }
    },
    {
      "cell_type": "markdown",
      "source": [
        "\n",
        "8. What is the difference between GET and POST HTTP methods?"
      ],
      "metadata": {
        "id": "yPNClNsxd_vh"
      }
    },
    {
      "cell_type": "markdown",
      "source": [
        "Ans ->\n",
        "\n",
        "GET: Used to retrieve data. Parameters are sent in the URL (query string).\n",
        "\n",
        "POST: Used to send data to the server to create a resource. Data is sent in the request body."
      ],
      "metadata": {
        "id": "Q0j-FVDrep1K"
      }
    },
    {
      "cell_type": "markdown",
      "source": [
        "9. How do you handle errors in Flask APIs?"
      ],
      "metadata": {
        "id": "mzesV7GBeBXQ"
      }
    },
    {
      "cell_type": "markdown",
      "source": [
        "Ans ->\n",
        "\n",
        "You can use @app.errorhandler() decorators or Flask's built-in abort() function.\n",
        "\n"
      ],
      "metadata": {
        "id": "xP70eFldewxy"
      }
    },
    {
      "cell_type": "code",
      "source": [
        "from flask import abort\n",
        "\n",
        "@app.route('/user/<int:id>')\n",
        "def get_user(id):\n",
        "    user = get_user_from_db(id)\n",
        "    if not user:\n",
        "        abort(404)\n",
        "    return user\n"
      ],
      "metadata": {
        "id": "v0ei8dA1e9H2"
      },
      "execution_count": null,
      "outputs": []
    },
    {
      "cell_type": "markdown",
      "source": [
        "10. How do you connect Flask to a SQL database?"
      ],
      "metadata": {
        "id": "EColRhuMeDqU"
      }
    },
    {
      "cell_type": "markdown",
      "source": [
        "Ans ->\n",
        "\n",
        "Use Flask-SQLAlchemy to connect and interact with a database."
      ],
      "metadata": {
        "id": "MWybMRXQfBSd"
      }
    },
    {
      "cell_type": "code",
      "source": [
        "from flask_sqlalchemy import SQLAlchemy\n",
        "\n",
        "app.config['SQLALCHEMY_DATABASE_URI'] = 'sqlite:///mydb.db'\n",
        "db = SQLAlchemy(app)\n"
      ],
      "metadata": {
        "id": "e5LfhSkkfECh"
      },
      "execution_count": null,
      "outputs": []
    },
    {
      "cell_type": "markdown",
      "source": [
        "11. What is the role of Flask-SQLAlchemy?"
      ],
      "metadata": {
        "id": "rg4nTP2HeEIO"
      }
    },
    {
      "cell_type": "markdown",
      "source": [
        "Ans ->\n",
        "\n",
        "Flask-SQLAlchemy is an extension that simplifies SQL database integration with Flask. It provides:\n",
        "\n",
        "ORM (Object Relational Mapping)\n",
        "\n",
        "Easy database model definitions\n",
        "\n",
        "Query methods using Python syntax"
      ],
      "metadata": {
        "id": "tJSnFw91fHSh"
      }
    },
    {
      "cell_type": "markdown",
      "source": [
        "12. What are Flask blueprints, and how are they useful?"
      ],
      "metadata": {
        "id": "PbVPPqdveGY5"
      }
    },
    {
      "cell_type": "markdown",
      "source": [
        "Ans ->\n",
        "\n",
        "Blueprints in Flask allow you to organize your application into modular components. This is helpful for large applications. You can define routes and views in separate files and register them to the main app."
      ],
      "metadata": {
        "id": "PpAxfzeRfL1s"
      }
    },
    {
      "cell_type": "code",
      "source": [
        "from flask import Blueprint\n",
        "\n",
        "admin = Blueprint('admin', __name__)\n",
        "\n",
        "@admin.route('/dashboard')\n",
        "def dashboard():\n",
        "    return 'Admin Dashboard'\n"
      ],
      "metadata": {
        "id": "oqwLBOYxfOft"
      },
      "execution_count": null,
      "outputs": []
    },
    {
      "cell_type": "markdown",
      "source": [
        "13. What is the purpose of Flask's request object?"
      ],
      "metadata": {
        "id": "q0ek8vHReIM8"
      }
    },
    {
      "cell_type": "markdown",
      "source": [
        "Ans ->\n",
        "\n",
        "The request object gives access to incoming request data, such as:\n",
        "\n",
        "Form data\n",
        "\n",
        "JSON data\n",
        "\n",
        "Query parameters\n",
        "\n",
        "HTTP headers"
      ],
      "metadata": {
        "id": "ta2NdFysfSiZ"
      }
    },
    {
      "cell_type": "code",
      "source": [
        "from flask import request\n",
        "\n",
        "@app.route('/submit', methods=['POST'])\n",
        "def submit():\n",
        "    data = request.form['name']\n",
        "    return f'Hello, {data}'\n"
      ],
      "metadata": {
        "id": "kesTXhJSfVeF"
      },
      "execution_count": null,
      "outputs": []
    },
    {
      "cell_type": "markdown",
      "source": [
        "14. How do you create a RESTful API endpoint using Flask?"
      ],
      "metadata": {
        "id": "Efv47tRvfYU4"
      }
    },
    {
      "cell_type": "markdown",
      "source": [
        "Ans ->\n",
        "\n",
        "You define a URL route and specify the allowed HTTP method (like GET, POST). Here's an example:"
      ],
      "metadata": {
        "id": "g4rGaFOaftQW"
      }
    },
    {
      "cell_type": "code",
      "source": [
        "from flask import Flask, request, jsonify\n",
        "\n",
        "app = Flask(__name__)\n",
        "\n",
        "@app.route('/api/greet', methods=['GET'])\n",
        "def greet():\n",
        "    name = request.args.get('name', 'Guest')\n",
        "    return jsonify({'message': f'Hello, {name}!'})\n",
        "\n",
        "if __name__ == '__main__':\n",
        "    app.run(debug=True)\n"
      ],
      "metadata": {
        "id": "1hGpmYN5fwNZ"
      },
      "execution_count": null,
      "outputs": []
    },
    {
      "cell_type": "markdown",
      "source": [
        "15. What is the purpose of Flask's jsonify() function?"
      ],
      "metadata": {
        "id": "e7rCWrTcfaBu"
      }
    },
    {
      "cell_type": "markdown",
      "source": [
        "Ans ->\n",
        "\n",
        "The jsonify() function is used to convert Python dictionaries (or other JSON-compatible data structures) into a proper JSON response with the correct MIME type (application/json).\n",
        "\n",
        "Example:"
      ],
      "metadata": {
        "id": "AtEeiCcNfzQo"
      }
    },
    {
      "cell_type": "code",
      "source": [
        "return jsonify({'name': 'Dhiraj', 'age': 25})\n"
      ],
      "metadata": {
        "id": "XY1vJHxcf3Tl"
      },
      "execution_count": null,
      "outputs": []
    },
    {
      "cell_type": "markdown",
      "source": [
        "16. Explain Flask's url_for() function."
      ],
      "metadata": {
        "id": "LeaeM6kOfahl"
      }
    },
    {
      "cell_type": "markdown",
      "source": [
        "Ans ->\n",
        "\n",
        "url_for() dynamically generates URLs for routes by using the name of the view function. This helps avoid hardcoding URLs.\n",
        "\n",
        "Example:"
      ],
      "metadata": {
        "id": "JB14eIZ4f6oV"
      }
    },
    {
      "cell_type": "code",
      "source": [
        "@app.route('/home')\n",
        "def home():\n",
        "    return 'Home Page'\n",
        "\n",
        "@app.route('/go-home')\n",
        "def go_home():\n",
        "    return redirect(url_for('home'))\n"
      ],
      "metadata": {
        "id": "JLETbvXhf-Ms"
      },
      "execution_count": null,
      "outputs": []
    },
    {
      "cell_type": "markdown",
      "source": [
        "17. How does Flask handle static files (CSS, JavaScript, etc.)?"
      ],
      "metadata": {
        "id": "J9i_E2ixfcGB"
      }
    },
    {
      "cell_type": "markdown",
      "source": [
        "Ans ->\n",
        "\n",
        "@app.route('/home')\n",
        "def home():\n",
        "    return 'Home Page'\n",
        "\n",
        "@app.route('/go-home')\n",
        "def go_home():\n",
        "    return redirect(url_for('home'))\n"
      ],
      "metadata": {
        "id": "TttCn_H6gA9R"
      }
    },
    {
      "cell_type": "code",
      "source": [
        "/project\n",
        "  /static\n",
        "    style.css\n",
        "  /templates\n",
        "    index.html\n"
      ],
      "metadata": {
        "id": "m5h52UbKgF5d"
      },
      "execution_count": null,
      "outputs": []
    },
    {
      "cell_type": "code",
      "source": [
        "<link rel=\"stylesheet\" href=\"{{ url_for('static', filename='style.css') }}\">\n"
      ],
      "metadata": {
        "id": "hwEYvfXDgIVB"
      },
      "execution_count": null,
      "outputs": []
    },
    {
      "cell_type": "markdown",
      "source": [
        "18. What is an API specification, and how does it help in building a Flask API?"
      ],
      "metadata": {
        "id": "PPP8dosqfeLt"
      }
    },
    {
      "cell_type": "markdown",
      "source": [
        "Ans ->\n",
        "\n",
        "An API specification is a contract that defines:\n",
        "\n",
        "What endpoints are available\n",
        "\n",
        "What parameters are expected\n",
        "\n",
        "What responses look like\n",
        "\n",
        "How errors are handled\n",
        "\n",
        "In Flask, this helps in:\n",
        "\n",
        "Keeping development and frontend teams aligned\n",
        "\n",
        "Automating documentation using tools like Swagger/OpenAPI"
      ],
      "metadata": {
        "id": "YBM7Tt4BgLcp"
      }
    },
    {
      "cell_type": "markdown",
      "source": [
        "19. What are HTTP status codes, and why are they important in a Flask API?"
      ],
      "metadata": {
        "id": "QcK66PHpffwR"
      }
    },
    {
      "cell_type": "markdown",
      "source": [
        "Ans ->\n",
        "\n",
        "HTTP status codes indicate the result of a request:\n",
        "\n",
        "200 OK: Success\n",
        "\n",
        "201 Created: New resource created\n",
        "\n",
        "400 Bad Request: Client error\n",
        "\n",
        "401 Unauthorized: Authentication required\n",
        "\n",
        "404 Not Found: Resource not found\n",
        "\n",
        "500 Internal Server Error: Server error\n",
        "\n",
        "In Flask:"
      ],
      "metadata": {
        "id": "rFdLxF-WgQIp"
      }
    },
    {
      "cell_type": "code",
      "source": [
        "return jsonify({'message': 'Success'}), 200\n"
      ],
      "metadata": {
        "id": "yeyYxf4GgTDC"
      },
      "execution_count": null,
      "outputs": []
    },
    {
      "cell_type": "markdown",
      "source": [
        "20. How do you handle POST requests in Flask?"
      ],
      "metadata": {
        "id": "RAgQLFpAfhdk"
      }
    },
    {
      "cell_type": "markdown",
      "source": [
        "Ans ->\n",
        "\n",
        "Use methods=['POST'] and access data using request.form or request.json.\n",
        "\n",
        "Example:"
      ],
      "metadata": {
        "id": "KaYGxY1lgWUb"
      }
    },
    {
      "cell_type": "code",
      "source": [
        "@app.route('/api/user', methods=['POST'])\n",
        "def create_user():\n",
        "    data = request.json\n",
        "    name = data.get('name')\n",
        "    return jsonify({'message': f'User {name} created'}), 201\n"
      ],
      "metadata": {
        "id": "BkXbpxT1gY0R"
      },
      "execution_count": null,
      "outputs": []
    },
    {
      "cell_type": "markdown",
      "source": [
        "21. How would you secure a Flask API?"
      ],
      "metadata": {
        "id": "Sf5OuQBwfjSd"
      }
    },
    {
      "cell_type": "markdown",
      "source": [
        "Ans ->\n",
        "\n",
        "Several methods can be used:\n",
        "\n",
        "Authentication (e.g., API keys, JWT tokens)\n",
        "\n",
        "HTTPS (use TLS to encrypt communication)\n",
        "\n",
        "Input validation and sanitization\n",
        "\n",
        "Rate limiting (prevent abuse)\n",
        "\n",
        "Flask extensions like Flask-Login or Flask-JWT-Extended\n",
        "\n",
        "Example using JWT:"
      ],
      "metadata": {
        "id": "84ZenXutgcOC"
      }
    },
    {
      "cell_type": "code",
      "source": [
        "from flask_jwt_extended import JWTManager, jwt_required\n",
        "\n",
        "app.config['JWT_SECRET_KEY'] = 'secret-key'\n",
        "jwt = JWTManager(app)\n",
        "\n",
        "@app.route('/secure', methods=['GET'])\n",
        "@jwt_required()\n",
        "def secure_endpoint():\n",
        "    return jsonify({'message': 'Secure content'})\n"
      ],
      "metadata": {
        "id": "MuoKCTxOgfxJ"
      },
      "execution_count": null,
      "outputs": []
    },
    {
      "cell_type": "markdown",
      "source": [
        "22. What is the significance of the Flask-RESTful extension?"
      ],
      "metadata": {
        "id": "gS3K9qHLfk76"
      }
    },
    {
      "cell_type": "markdown",
      "source": [
        "Ans ->\n",
        "\n",
        "Flask-RESTful is an extension that simplifies building RESTful APIs with Flask. It provides:\n",
        "\n",
        "Resource-based routing\n",
        "\n",
        "Built-in request parsing\n",
        "\n",
        "Better structure and scalability\n",
        "\n",
        "Example:"
      ],
      "metadata": {
        "id": "YPhAFDYygijx"
      }
    },
    {
      "cell_type": "code",
      "source": [
        "from flask_restful import Api, Resource\n",
        "\n",
        "api = Api(app)\n",
        "\n",
        "class Hello(Resource):\n",
        "    def get(self):\n",
        "        return {'message': 'Hello'}\n",
        "\n",
        "api.add_resource(Hello, '/api/hello')\n"
      ],
      "metadata": {
        "id": "W8OdrSdsgk65"
      },
      "execution_count": null,
      "outputs": []
    },
    {
      "cell_type": "markdown",
      "source": [
        "23. What is the role of Flask's session object?"
      ],
      "metadata": {
        "id": "5NnbL7tLfm-J"
      }
    },
    {
      "cell_type": "markdown",
      "source": [
        "Ans ->\n",
        "\n",
        "The session object stores data across requests for a user using a secure cookie. It’s useful for:\n",
        "\n",
        "Storing login status\n",
        "\n",
        "Tracking user preferences\n",
        "\n",
        "Example:"
      ],
      "metadata": {
        "id": "7o_DBfNNgnTF"
      }
    },
    {
      "cell_type": "code",
      "source": [
        "from flask import session\n",
        "\n",
        "@app.route('/login', methods=['POST'])\n",
        "def login():\n",
        "    session['user'] = 'Dhiraj'\n",
        "    return 'Logged in'\n",
        "\n",
        "@app.route('/profile')\n",
        "def profile():\n",
        "    user = session.get('user')\n",
        "    return f'Hello, {user}'\n"
      ],
      "metadata": {
        "id": "35PL13U6gq_4"
      },
      "execution_count": null,
      "outputs": []
    },
    {
      "cell_type": "markdown",
      "source": [
        "# Practical\n",
        "\n",
        "---\n",
        "\n"
      ],
      "metadata": {
        "id": "SP5fubhGg3Z5"
      }
    },
    {
      "cell_type": "markdown",
      "source": [
        "1. How do you create a basic Flask application?"
      ],
      "metadata": {
        "id": "UNDG2bwEg6kw"
      }
    },
    {
      "cell_type": "code",
      "source": [
        "from flask import Flask\n",
        "\n",
        "app = Flask(__name__)\n",
        "\n",
        "@app.route('/')\n",
        "def home():\n",
        "    return 'Hello, Flask!'\n",
        "\n",
        "if __name__ == '__main__':\n",
        "    app.run(debug=True)\n"
      ],
      "metadata": {
        "id": "mzfzBSIIhWBT"
      },
      "execution_count": null,
      "outputs": []
    },
    {
      "cell_type": "markdown",
      "source": [
        "2. How do you serve static files like images or CSS in Flask?"
      ],
      "metadata": {
        "id": "SVcvMDsCg8nR"
      }
    },
    {
      "cell_type": "markdown",
      "source": [
        "Project structure:"
      ],
      "metadata": {
        "id": "Gd92ItmVhfoN"
      }
    },
    {
      "cell_type": "code",
      "source": [
        "project/\n",
        "├── app.py\n",
        "└── static/\n",
        "    └── style.css\n"
      ],
      "metadata": {
        "id": "vwwi6Gi-hYwp"
      },
      "execution_count": null,
      "outputs": []
    },
    {
      "cell_type": "markdown",
      "source": [
        "In HTML:"
      ],
      "metadata": {
        "id": "jqVpkUFkhbYk"
      }
    },
    {
      "cell_type": "code",
      "source": [
        "project/\n",
        "├── app.py\n",
        "└── static/\n",
        "    └── style.css\n"
      ],
      "metadata": {
        "id": "8ugesf_xhcBZ"
      },
      "execution_count": null,
      "outputs": []
    },
    {
      "cell_type": "markdown",
      "source": [
        "\n",
        "3. How do you define different routes with different HTTP methods in Flask?"
      ],
      "metadata": {
        "id": "EzOw85-Dg9Md"
      }
    },
    {
      "cell_type": "code",
      "source": [
        "from flask import request\n",
        "\n",
        "@app.route('/submit', methods=['GET', 'POST'])\n",
        "def submit():\n",
        "    if request.method == 'POST':\n",
        "        return 'Form Submitted'\n",
        "    return 'Submit Form Page'\n"
      ],
      "metadata": {
        "id": "h6OpRnW-hhiF"
      },
      "execution_count": null,
      "outputs": []
    },
    {
      "cell_type": "markdown",
      "source": [
        "4. How do you render HTML templates in Flask?"
      ],
      "metadata": {
        "id": "mKORrn6Kg-y1"
      }
    },
    {
      "cell_type": "markdown",
      "source": [
        "Folder structure:"
      ],
      "metadata": {
        "id": "JT4diaJ4hmhm"
      }
    },
    {
      "cell_type": "code",
      "source": [
        "project/\n",
        "├── app.py\n",
        "└── templates/\n",
        "    └── index.html\n"
      ],
      "metadata": {
        "id": "g5uk7dJXhkgi"
      },
      "execution_count": null,
      "outputs": []
    },
    {
      "cell_type": "markdown",
      "source": [
        "index.html:"
      ],
      "metadata": {
        "id": "uVGavF5ThoeC"
      }
    },
    {
      "cell_type": "code",
      "source": [
        "<h1>Welcome, {{ name }}!</h1>\n"
      ],
      "metadata": {
        "id": "qBNz59KdhqAh"
      },
      "execution_count": null,
      "outputs": []
    },
    {
      "cell_type": "markdown",
      "source": [
        "app.py:"
      ],
      "metadata": {
        "id": "SNvUYFv1htiV"
      }
    },
    {
      "cell_type": "code",
      "source": [
        "from flask import render_template\n",
        "\n",
        "@app.route('/hello/<name>')\n",
        "def hello(name):\n",
        "    return render_template('index.html', name=name)\n"
      ],
      "metadata": {
        "id": "RIAWeFONhvZC"
      },
      "execution_count": null,
      "outputs": []
    },
    {
      "cell_type": "markdown",
      "source": [
        "5. How can you generate URLs for routes in Flask using url_for?"
      ],
      "metadata": {
        "id": "Ckz5jIZKhATh"
      }
    },
    {
      "cell_type": "code",
      "source": [
        "@app.route('/dashboard')\n",
        "def dashboard():\n",
        "    return 'This is the dashboard.'\n",
        "\n",
        "@app.route('/go')\n",
        "def go_to_dashboard():\n",
        "    return redirect(url_for('dashboard'))\n"
      ],
      "metadata": {
        "id": "SsPtqPQAhxR5"
      },
      "execution_count": null,
      "outputs": []
    },
    {
      "cell_type": "markdown",
      "source": [
        "6. How do you handle forms in Flask?"
      ],
      "metadata": {
        "id": "r9YO9Wt3hCXs"
      }
    },
    {
      "cell_type": "code",
      "source": [
        "from flask import request\n",
        "\n",
        "@app.route('/form', methods=['GET', 'POST'])\n",
        "def form():\n",
        "    if request.method == 'POST':\n",
        "        name = request.form['name']\n",
        "        return f'Hello, {name}'\n",
        "    return '''\n",
        "        <form method=\"post\">\n",
        "            Name: <input type=\"text\" name=\"name\">\n",
        "            <input type=\"submit\">\n",
        "        </form>\n",
        "    '''\n"
      ],
      "metadata": {
        "id": "Pn94dWReh0AZ"
      },
      "execution_count": null,
      "outputs": []
    },
    {
      "cell_type": "markdown",
      "source": [
        "7. How can you validate form data in Flask?"
      ],
      "metadata": {
        "id": "RFOKIX9PhEEp"
      }
    },
    {
      "cell_type": "markdown",
      "source": [
        "Using Flask-WTF:"
      ],
      "metadata": {
        "id": "C7Jhl2ixh3Dt"
      }
    },
    {
      "cell_type": "code",
      "source": [
        "pip install flask-wtf\n"
      ],
      "metadata": {
        "id": "ZIRMBZ0Hh4ts"
      },
      "execution_count": null,
      "outputs": []
    },
    {
      "cell_type": "code",
      "source": [
        "Example:"
      ],
      "metadata": {
        "id": "lE5opBGJh7E-"
      },
      "execution_count": null,
      "outputs": []
    },
    {
      "cell_type": "code",
      "source": [
        "from flask_wtf import FlaskForm\n",
        "from wtforms import StringField, SubmitField\n",
        "from wtforms.validators import DataRequired\n",
        "\n",
        "class MyForm(FlaskForm):\n",
        "    name = StringField('Name', validators=[DataRequired()])\n",
        "    submit = SubmitField('Submit')\n"
      ],
      "metadata": {
        "id": "9vqsdTM7h8uN"
      },
      "execution_count": null,
      "outputs": []
    },
    {
      "cell_type": "markdown",
      "source": [
        "In your view:"
      ],
      "metadata": {
        "id": "60aHvK8RiDNW"
      }
    },
    {
      "cell_type": "code",
      "source": [
        "@app.route('/validate', methods=['GET', 'POST'])\n",
        "def validate():\n",
        "    form = MyForm()\n",
        "    if form.validate_on_submit():\n",
        "        return f'Hello {form.name.data}'\n",
        "    return render_template('form.html', form=form)\n"
      ],
      "metadata": {
        "id": "IWAM17U6iErR"
      },
      "execution_count": null,
      "outputs": []
    },
    {
      "cell_type": "markdown",
      "source": [
        "8. How do you manage sessions in Flask?"
      ],
      "metadata": {
        "id": "KhWl9Cc1hFoE"
      }
    },
    {
      "cell_type": "code",
      "source": [
        "from flask import session\n",
        "\n",
        "app.secret_key = 'your-secret-key'\n",
        "\n",
        "@app.route('/login')\n",
        "def login():\n",
        "    session['user'] = 'Dhiraj'\n",
        "    return 'Logged in'\n",
        "\n",
        "@app.route('/profile')\n",
        "def profile():\n",
        "    return f\"Logged in as {session.get('user')}\"\n"
      ],
      "metadata": {
        "id": "K-La07S7iGjG"
      },
      "execution_count": null,
      "outputs": []
    },
    {
      "cell_type": "markdown",
      "source": [
        "9. How do you redirect to a different route in Flask?"
      ],
      "metadata": {
        "id": "utdGlN-DhHE7"
      }
    },
    {
      "cell_type": "code",
      "source": [
        "from flask import redirect, url_for\n",
        "\n",
        "@app.route('/redirect-me')\n",
        "def redirect_me():\n",
        "    return redirect(url_for('home'))\n"
      ],
      "metadata": {
        "id": "0809AZlXiITl"
      },
      "execution_count": null,
      "outputs": []
    },
    {
      "cell_type": "markdown",
      "source": [
        "10. How do you handle errors in Flask (e.g., 404)?"
      ],
      "metadata": {
        "id": "G-jQzW3NhIyd"
      }
    },
    {
      "cell_type": "code",
      "source": [
        "@app.errorhandler(404)\n",
        "def page_not_found(e):\n",
        "    return render_template('404.html'), 404\n"
      ],
      "metadata": {
        "id": "jgiSN4bYiKB1"
      },
      "execution_count": null,
      "outputs": []
    },
    {
      "cell_type": "markdown",
      "source": [
        "11. How do you structure a Flask app using Blueprints?"
      ],
      "metadata": {
        "id": "eiyZOaY_hKPr"
      }
    },
    {
      "cell_type": "markdown",
      "source": [
        "Structure:"
      ],
      "metadata": {
        "id": "X9nctZ6qiM_7"
      }
    },
    {
      "cell_type": "code",
      "source": [
        "project/\n",
        "├── app.py\n",
        "└── user/\n",
        "    ├── __init__.py\n",
        "    └── routes.py\n"
      ],
      "metadata": {
        "id": "42PupfTZiMl4"
      },
      "execution_count": null,
      "outputs": []
    },
    {
      "cell_type": "markdown",
      "source": [
        "user/routes.py:"
      ],
      "metadata": {
        "id": "I9CK6JgKiQWJ"
      }
    },
    {
      "cell_type": "code",
      "source": [
        "from flask import Blueprint\n",
        "\n",
        "user = Blueprint('user', __name__)\n",
        "\n",
        "@user.route('/profile')\n",
        "def profile():\n",
        "    return 'User Profile'\n"
      ],
      "metadata": {
        "id": "zcD0-14iiRuq"
      },
      "execution_count": null,
      "outputs": []
    },
    {
      "cell_type": "markdown",
      "source": [
        "app.py:"
      ],
      "metadata": {
        "id": "k9qJSh8jiTfI"
      }
    },
    {
      "cell_type": "code",
      "source": [
        "from user.routes import user\n",
        "app.register_blueprint(user, url_prefix='/user')\n"
      ],
      "metadata": {
        "id": "ze1Fx0S_iU6B"
      },
      "execution_count": null,
      "outputs": []
    },
    {
      "cell_type": "markdown",
      "source": [
        "12. How do you define a custom Jinja filter in Flask?"
      ],
      "metadata": {
        "id": "5RJbxV82hMmt"
      }
    },
    {
      "cell_type": "code",
      "source": [
        "@app.template_filter('reverse')\n",
        "def reverse_filter(s):\n",
        "    return s[::-1]\n",
        "\n",
        "# Usage in template: {{ 'hello'|reverse }} → 'olleh'\n"
      ],
      "metadata": {
        "id": "9jD8I3aqiXvo"
      },
      "execution_count": null,
      "outputs": []
    },
    {
      "cell_type": "markdown",
      "source": [
        "13. How can you redirect with query parameters in Flask?"
      ],
      "metadata": {
        "id": "iKQucyF6hOOJ"
      }
    },
    {
      "cell_type": "code",
      "source": [
        "@app.route('/search')\n",
        "def search():\n",
        "    return redirect(url_for('results', q='flask'))\n",
        "\n",
        "@app.route('/results')\n",
        "def results():\n",
        "    query = request.args.get('q')\n",
        "    return f'Search Results for: {query}'\n"
      ],
      "metadata": {
        "id": "NBguba-BiZiN"
      },
      "execution_count": null,
      "outputs": []
    },
    {
      "cell_type": "markdown",
      "source": [
        "14. How do you return JSON responses in Flask?"
      ],
      "metadata": {
        "id": "xl6v5gWhhP50"
      }
    },
    {
      "cell_type": "code",
      "source": [
        "from flask import jsonify\n",
        "\n",
        "@app.route('/data')\n",
        "def data():\n",
        "    return jsonify({'name': 'Dhiraj', 'role': 'Developer'})\n"
      ],
      "metadata": {
        "id": "kgtbrNQoicKp"
      },
      "execution_count": null,
      "outputs": []
    },
    {
      "cell_type": "markdown",
      "source": [
        "15. How do you capture URL parameters in Flask"
      ],
      "metadata": {
        "id": "olIxnEKjhRkq"
      }
    },
    {
      "cell_type": "code",
      "source": [
        "@app.route('/user/<username>')\n",
        "def show_user_profile(username):\n",
        "    return f'User: {username}'\n",
        "\n",
        "@app.route('/post/<int:post_id>')\n",
        "def show_post(post_id):\n",
        "    return f'Post ID: {post_id}'\n"
      ],
      "metadata": {
        "id": "G1OdVlpVid55"
      },
      "execution_count": null,
      "outputs": []
    }
  ]
}